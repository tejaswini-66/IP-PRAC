{
  "nbformat": 4,
  "nbformat_minor": 0,
  "metadata": {
    "colab": {
      "provenance": [],
      "authorship_tag": "ABX9TyO17QVX0TYY3knP/pey8DZi",
      "include_colab_link": true
    },
    "kernelspec": {
      "name": "python3",
      "display_name": "Python 3"
    },
    "language_info": {
      "name": "python"
    }
  },
  "cells": [
    {
      "cell_type": "markdown",
      "metadata": {
        "id": "view-in-github",
        "colab_type": "text"
      },
      "source": [
        "<a href=\"https://colab.research.google.com/github/tejaswini-66/IP-PRAC/blob/main/YBI.ipynb\" target=\"_parent\"><img src=\"https://colab.research.google.com/assets/colab-badge.svg\" alt=\"Open In Colab\"/></a>"
      ]
    },
    {
      "cell_type": "code",
      "execution_count": 32,
      "metadata": {
        "id": "QZZP4m9VKbE-"
      },
      "outputs": [],
      "source": [
        "import pandas as pd"
      ]
    },
    {
      "cell_type": "code",
      "source": [
        "df=pd.read_csv('https://github.com/YBI-Foundation/Dataset/raw/main/BitcoinPricePrediction.csv')"
      ],
      "metadata": {
        "id": "bWclOhXSKpyu"
      },
      "execution_count": 33,
      "outputs": []
    },
    {
      "cell_type": "code",
      "source": [
        "df.head()"
      ],
      "metadata": {
        "colab": {
          "base_uri": "https://localhost:8080/",
          "height": 386
        },
        "id": "JTpZCinLK10O",
        "outputId": "60e361b3-f38a-4936-8b03-9a12bc90548f"
      },
      "execution_count": 34,
      "outputs": [
        {
          "output_type": "execute_result",
          "data": {
            "text/plain": [
              "         Date  opening_price  highest_price  lowest_price  closing_price  \\\n",
              "0  2013-04-01           93.0          106.0          92.2          104.0   \n",
              "1  2013-04-02          104.0          118.4          99.0          118.0   \n",
              "2  2013-04-03          118.0          147.0         110.0          135.0   \n",
              "3  2013-04-04          135.0          142.1         116.4          132.1   \n",
              "4  2013-04-05          132.1          144.9         130.2          142.3   \n",
              "\n",
              "   transactions_in_blockchain  avg_block_size  sent_by_adress  \\\n",
              "0                       52572          139256           48809   \n",
              "1                       63095          175443           62276   \n",
              "2                       63766          184209           69174   \n",
              "3                       66738          221568           71753   \n",
              "4                       61215          190067           69310   \n",
              "\n",
              "   avg_mining_difficulty  avg_hashrate  ...  avg_transaction_value  \\\n",
              "0                6695826  6.550211e+13  ...                 2592.0   \n",
              "1                6695826  6.184560e+13  ...                 4400.0   \n",
              "2                6695826  6.027037e+13  ...                 4478.0   \n",
              "3                6695826  5.527246e+13  ...                 4249.0   \n",
              "4                7005058  5.181545e+13  ...                 4348.0   \n",
              "\n",
              "   median_transaction_value  tweets  google_trends  active_addresses  \\\n",
              "0                    64.987  8193.0         15.248           75756.0   \n",
              "1                    94.955  8193.0         17.192           91875.0   \n",
              "2                   102.533  8193.0         26.608          107142.0   \n",
              "3                   123.314  8193.0         24.681          108890.0   \n",
              "4                   125.183  8193.0         20.514          100034.0   \n",
              "\n",
              "   top100_to_total_percentage  avg_fee_to_reward  \\\n",
              "0                      19.962              0.867   \n",
              "1                      20.024              1.338   \n",
              "2                      19.987              1.596   \n",
              "3                      19.990              1.948   \n",
              "4                      19.833              1.432   \n",
              "\n",
              "   number_of_coins_in_circulation  miner_revenue  next_day_closing_price  \n",
              "0                      10975275.0  481891.360000                   118.0  \n",
              "1                      10988125.0  531299.503749                   135.0  \n",
              "2                      10986575.0  538423.880210                   132.1  \n",
              "3                      10995725.0  525157.600000                   142.3  \n",
              "4                      10999925.0  606454.781556                   142.6  \n",
              "\n",
              "[5 rows x 25 columns]"
            ],
            "text/html": [
              "\n",
              "  <div id=\"df-9fc63dcc-7e19-46ff-b8ac-0e1e460da0d4\">\n",
              "    <div class=\"colab-df-container\">\n",
              "      <div>\n",
              "<style scoped>\n",
              "    .dataframe tbody tr th:only-of-type {\n",
              "        vertical-align: middle;\n",
              "    }\n",
              "\n",
              "    .dataframe tbody tr th {\n",
              "        vertical-align: top;\n",
              "    }\n",
              "\n",
              "    .dataframe thead th {\n",
              "        text-align: right;\n",
              "    }\n",
              "</style>\n",
              "<table border=\"1\" class=\"dataframe\">\n",
              "  <thead>\n",
              "    <tr style=\"text-align: right;\">\n",
              "      <th></th>\n",
              "      <th>Date</th>\n",
              "      <th>opening_price</th>\n",
              "      <th>highest_price</th>\n",
              "      <th>lowest_price</th>\n",
              "      <th>closing_price</th>\n",
              "      <th>transactions_in_blockchain</th>\n",
              "      <th>avg_block_size</th>\n",
              "      <th>sent_by_adress</th>\n",
              "      <th>avg_mining_difficulty</th>\n",
              "      <th>avg_hashrate</th>\n",
              "      <th>...</th>\n",
              "      <th>avg_transaction_value</th>\n",
              "      <th>median_transaction_value</th>\n",
              "      <th>tweets</th>\n",
              "      <th>google_trends</th>\n",
              "      <th>active_addresses</th>\n",
              "      <th>top100_to_total_percentage</th>\n",
              "      <th>avg_fee_to_reward</th>\n",
              "      <th>number_of_coins_in_circulation</th>\n",
              "      <th>miner_revenue</th>\n",
              "      <th>next_day_closing_price</th>\n",
              "    </tr>\n",
              "  </thead>\n",
              "  <tbody>\n",
              "    <tr>\n",
              "      <th>0</th>\n",
              "      <td>2013-04-01</td>\n",
              "      <td>93.0</td>\n",
              "      <td>106.0</td>\n",
              "      <td>92.2</td>\n",
              "      <td>104.0</td>\n",
              "      <td>52572</td>\n",
              "      <td>139256</td>\n",
              "      <td>48809</td>\n",
              "      <td>6695826</td>\n",
              "      <td>6.550211e+13</td>\n",
              "      <td>...</td>\n",
              "      <td>2592.0</td>\n",
              "      <td>64.987</td>\n",
              "      <td>8193.0</td>\n",
              "      <td>15.248</td>\n",
              "      <td>75756.0</td>\n",
              "      <td>19.962</td>\n",
              "      <td>0.867</td>\n",
              "      <td>10975275.0</td>\n",
              "      <td>481891.360000</td>\n",
              "      <td>118.0</td>\n",
              "    </tr>\n",
              "    <tr>\n",
              "      <th>1</th>\n",
              "      <td>2013-04-02</td>\n",
              "      <td>104.0</td>\n",
              "      <td>118.4</td>\n",
              "      <td>99.0</td>\n",
              "      <td>118.0</td>\n",
              "      <td>63095</td>\n",
              "      <td>175443</td>\n",
              "      <td>62276</td>\n",
              "      <td>6695826</td>\n",
              "      <td>6.184560e+13</td>\n",
              "      <td>...</td>\n",
              "      <td>4400.0</td>\n",
              "      <td>94.955</td>\n",
              "      <td>8193.0</td>\n",
              "      <td>17.192</td>\n",
              "      <td>91875.0</td>\n",
              "      <td>20.024</td>\n",
              "      <td>1.338</td>\n",
              "      <td>10988125.0</td>\n",
              "      <td>531299.503749</td>\n",
              "      <td>135.0</td>\n",
              "    </tr>\n",
              "    <tr>\n",
              "      <th>2</th>\n",
              "      <td>2013-04-03</td>\n",
              "      <td>118.0</td>\n",
              "      <td>147.0</td>\n",
              "      <td>110.0</td>\n",
              "      <td>135.0</td>\n",
              "      <td>63766</td>\n",
              "      <td>184209</td>\n",
              "      <td>69174</td>\n",
              "      <td>6695826</td>\n",
              "      <td>6.027037e+13</td>\n",
              "      <td>...</td>\n",
              "      <td>4478.0</td>\n",
              "      <td>102.533</td>\n",
              "      <td>8193.0</td>\n",
              "      <td>26.608</td>\n",
              "      <td>107142.0</td>\n",
              "      <td>19.987</td>\n",
              "      <td>1.596</td>\n",
              "      <td>10986575.0</td>\n",
              "      <td>538423.880210</td>\n",
              "      <td>132.1</td>\n",
              "    </tr>\n",
              "    <tr>\n",
              "      <th>3</th>\n",
              "      <td>2013-04-04</td>\n",
              "      <td>135.0</td>\n",
              "      <td>142.1</td>\n",
              "      <td>116.4</td>\n",
              "      <td>132.1</td>\n",
              "      <td>66738</td>\n",
              "      <td>221568</td>\n",
              "      <td>71753</td>\n",
              "      <td>6695826</td>\n",
              "      <td>5.527246e+13</td>\n",
              "      <td>...</td>\n",
              "      <td>4249.0</td>\n",
              "      <td>123.314</td>\n",
              "      <td>8193.0</td>\n",
              "      <td>24.681</td>\n",
              "      <td>108890.0</td>\n",
              "      <td>19.990</td>\n",
              "      <td>1.948</td>\n",
              "      <td>10995725.0</td>\n",
              "      <td>525157.600000</td>\n",
              "      <td>142.3</td>\n",
              "    </tr>\n",
              "    <tr>\n",
              "      <th>4</th>\n",
              "      <td>2013-04-05</td>\n",
              "      <td>132.1</td>\n",
              "      <td>144.9</td>\n",
              "      <td>130.2</td>\n",
              "      <td>142.3</td>\n",
              "      <td>61215</td>\n",
              "      <td>190067</td>\n",
              "      <td>69310</td>\n",
              "      <td>7005058</td>\n",
              "      <td>5.181545e+13</td>\n",
              "      <td>...</td>\n",
              "      <td>4348.0</td>\n",
              "      <td>125.183</td>\n",
              "      <td>8193.0</td>\n",
              "      <td>20.514</td>\n",
              "      <td>100034.0</td>\n",
              "      <td>19.833</td>\n",
              "      <td>1.432</td>\n",
              "      <td>10999925.0</td>\n",
              "      <td>606454.781556</td>\n",
              "      <td>142.6</td>\n",
              "    </tr>\n",
              "  </tbody>\n",
              "</table>\n",
              "<p>5 rows × 25 columns</p>\n",
              "</div>\n",
              "      <button class=\"colab-df-convert\" onclick=\"convertToInteractive('df-9fc63dcc-7e19-46ff-b8ac-0e1e460da0d4')\"\n",
              "              title=\"Convert this dataframe to an interactive table.\"\n",
              "              style=\"display:none;\">\n",
              "        \n",
              "  <svg xmlns=\"http://www.w3.org/2000/svg\" height=\"24px\"viewBox=\"0 0 24 24\"\n",
              "       width=\"24px\">\n",
              "    <path d=\"M0 0h24v24H0V0z\" fill=\"none\"/>\n",
              "    <path d=\"M18.56 5.44l.94 2.06.94-2.06 2.06-.94-2.06-.94-.94-2.06-.94 2.06-2.06.94zm-11 1L8.5 8.5l.94-2.06 2.06-.94-2.06-.94L8.5 2.5l-.94 2.06-2.06.94zm10 10l.94 2.06.94-2.06 2.06-.94-2.06-.94-.94-2.06-.94 2.06-2.06.94z\"/><path d=\"M17.41 7.96l-1.37-1.37c-.4-.4-.92-.59-1.43-.59-.52 0-1.04.2-1.43.59L10.3 9.45l-7.72 7.72c-.78.78-.78 2.05 0 2.83L4 21.41c.39.39.9.59 1.41.59.51 0 1.02-.2 1.41-.59l7.78-7.78 2.81-2.81c.8-.78.8-2.07 0-2.86zM5.41 20L4 18.59l7.72-7.72 1.47 1.35L5.41 20z\"/>\n",
              "  </svg>\n",
              "      </button>\n",
              "      \n",
              "  <style>\n",
              "    .colab-df-container {\n",
              "      display:flex;\n",
              "      flex-wrap:wrap;\n",
              "      gap: 12px;\n",
              "    }\n",
              "\n",
              "    .colab-df-convert {\n",
              "      background-color: #E8F0FE;\n",
              "      border: none;\n",
              "      border-radius: 50%;\n",
              "      cursor: pointer;\n",
              "      display: none;\n",
              "      fill: #1967D2;\n",
              "      height: 32px;\n",
              "      padding: 0 0 0 0;\n",
              "      width: 32px;\n",
              "    }\n",
              "\n",
              "    .colab-df-convert:hover {\n",
              "      background-color: #E2EBFA;\n",
              "      box-shadow: 0px 1px 2px rgba(60, 64, 67, 0.3), 0px 1px 3px 1px rgba(60, 64, 67, 0.15);\n",
              "      fill: #174EA6;\n",
              "    }\n",
              "\n",
              "    [theme=dark] .colab-df-convert {\n",
              "      background-color: #3B4455;\n",
              "      fill: #D2E3FC;\n",
              "    }\n",
              "\n",
              "    [theme=dark] .colab-df-convert:hover {\n",
              "      background-color: #434B5C;\n",
              "      box-shadow: 0px 1px 3px 1px rgba(0, 0, 0, 0.15);\n",
              "      filter: drop-shadow(0px 1px 2px rgba(0, 0, 0, 0.3));\n",
              "      fill: #FFFFFF;\n",
              "    }\n",
              "  </style>\n",
              "\n",
              "      <script>\n",
              "        const buttonEl =\n",
              "          document.querySelector('#df-9fc63dcc-7e19-46ff-b8ac-0e1e460da0d4 button.colab-df-convert');\n",
              "        buttonEl.style.display =\n",
              "          google.colab.kernel.accessAllowed ? 'block' : 'none';\n",
              "\n",
              "        async function convertToInteractive(key) {\n",
              "          const element = document.querySelector('#df-9fc63dcc-7e19-46ff-b8ac-0e1e460da0d4');\n",
              "          const dataTable =\n",
              "            await google.colab.kernel.invokeFunction('convertToInteractive',\n",
              "                                                     [key], {});\n",
              "          if (!dataTable) return;\n",
              "\n",
              "          const docLinkHtml = 'Like what you see? Visit the ' +\n",
              "            '<a target=\"_blank\" href=https://colab.research.google.com/notebooks/data_table.ipynb>data table notebook</a>'\n",
              "            + ' to learn more about interactive tables.';\n",
              "          element.innerHTML = '';\n",
              "          dataTable['output_type'] = 'display_data';\n",
              "          await google.colab.output.renderOutput(dataTable, element);\n",
              "          const docLink = document.createElement('div');\n",
              "          docLink.innerHTML = docLinkHtml;\n",
              "          element.appendChild(docLink);\n",
              "        }\n",
              "      </script>\n",
              "    </div>\n",
              "  </div>\n",
              "  "
            ]
          },
          "metadata": {},
          "execution_count": 34
        }
      ]
    },
    {
      "cell_type": "code",
      "source": [
        "df.tail()"
      ],
      "metadata": {
        "colab": {
          "base_uri": "https://localhost:8080/",
          "height": 386
        },
        "id": "ISciiiTCLRAy",
        "outputId": "45480bed-4c87-471b-c9c2-f4cc2df875fc"
      },
      "execution_count": 35,
      "outputs": [
        {
          "output_type": "execute_result",
          "data": {
            "text/plain": [
              "            Date  opening_price  highest_price  lowest_price  closing_price  \\\n",
              "3088  2021-09-14        44950.2        47247.6       44718.7        47077.5   \n",
              "3089  2021-09-15        47070.8        48436.5       46743.9        48130.6   \n",
              "3090  2021-09-16        48132.3        48480.6       47040.3        47748.0   \n",
              "3091  2021-09-17        47748.2        48155.9       46788.8        47282.8   \n",
              "3092  2021-09-18        47283.9        48761.0       47070.5        48306.7   \n",
              "\n",
              "      transactions_in_blockchain  avg_block_size  sent_by_adress  \\\n",
              "3088                      267959          599399          472333   \n",
              "3089                      268815          736726          459889   \n",
              "3090                      271087          817607          436025   \n",
              "3091                      270893          720056          384965   \n",
              "3092                      227506          563189          248478   \n",
              "\n",
              "      avg_mining_difficulty  avg_hashrate  ...  avg_transaction_value  \\\n",
              "3088         18415156832118  1.555172e+20  ...              1932378.0   \n",
              "3089         18415156832118  1.330283e+20  ...               702497.0   \n",
              "3090         18415156832118  1.302297e+20  ...               766989.0   \n",
              "3091         18415156832118  1.272835e+20  ...               612387.0   \n",
              "3092         18415156832118  1.428505e+20  ...               638205.0   \n",
              "\n",
              "      median_transaction_value    tweets  google_trends  active_addresses  \\\n",
              "3088                   717.117   91267.0     108.864900          793939.0   \n",
              "3089                   773.643  109407.0     111.309556          823392.0   \n",
              "3090                   719.701   90855.0     113.459125          879832.0   \n",
              "3091                   714.990  101046.0     116.526571          823793.0   \n",
              "3092                   593.076   82649.0     122.004333          701986.0   \n",
              "\n",
              "      top100_to_total_percentage  avg_fee_to_reward  \\\n",
              "3088                      15.218              1.394   \n",
              "3089                      15.186              1.887   \n",
              "3090                      15.185              1.938   \n",
              "3091                      15.177              1.605   \n",
              "3092                      15.185              1.183   \n",
              "\n",
              "      number_of_coins_in_circulation  miner_revenue  next_day_closing_price  \n",
              "3088                     18816150.00   4.946986e+07                 48130.6  \n",
              "3089                     18817025.00   4.302687e+07                 47748.0  \n",
              "3090                     18817900.00   4.144786e+07                 47282.8  \n",
              "3091                     18818781.25   4.500074e+07                 48306.7  \n",
              "3092                     18819662.50   4.781768e+07                 47328.0  \n",
              "\n",
              "[5 rows x 25 columns]"
            ],
            "text/html": [
              "\n",
              "  <div id=\"df-ef01a064-87af-4fda-9661-3ab897e5bdd0\">\n",
              "    <div class=\"colab-df-container\">\n",
              "      <div>\n",
              "<style scoped>\n",
              "    .dataframe tbody tr th:only-of-type {\n",
              "        vertical-align: middle;\n",
              "    }\n",
              "\n",
              "    .dataframe tbody tr th {\n",
              "        vertical-align: top;\n",
              "    }\n",
              "\n",
              "    .dataframe thead th {\n",
              "        text-align: right;\n",
              "    }\n",
              "</style>\n",
              "<table border=\"1\" class=\"dataframe\">\n",
              "  <thead>\n",
              "    <tr style=\"text-align: right;\">\n",
              "      <th></th>\n",
              "      <th>Date</th>\n",
              "      <th>opening_price</th>\n",
              "      <th>highest_price</th>\n",
              "      <th>lowest_price</th>\n",
              "      <th>closing_price</th>\n",
              "      <th>transactions_in_blockchain</th>\n",
              "      <th>avg_block_size</th>\n",
              "      <th>sent_by_adress</th>\n",
              "      <th>avg_mining_difficulty</th>\n",
              "      <th>avg_hashrate</th>\n",
              "      <th>...</th>\n",
              "      <th>avg_transaction_value</th>\n",
              "      <th>median_transaction_value</th>\n",
              "      <th>tweets</th>\n",
              "      <th>google_trends</th>\n",
              "      <th>active_addresses</th>\n",
              "      <th>top100_to_total_percentage</th>\n",
              "      <th>avg_fee_to_reward</th>\n",
              "      <th>number_of_coins_in_circulation</th>\n",
              "      <th>miner_revenue</th>\n",
              "      <th>next_day_closing_price</th>\n",
              "    </tr>\n",
              "  </thead>\n",
              "  <tbody>\n",
              "    <tr>\n",
              "      <th>3088</th>\n",
              "      <td>2021-09-14</td>\n",
              "      <td>44950.2</td>\n",
              "      <td>47247.6</td>\n",
              "      <td>44718.7</td>\n",
              "      <td>47077.5</td>\n",
              "      <td>267959</td>\n",
              "      <td>599399</td>\n",
              "      <td>472333</td>\n",
              "      <td>18415156832118</td>\n",
              "      <td>1.555172e+20</td>\n",
              "      <td>...</td>\n",
              "      <td>1932378.0</td>\n",
              "      <td>717.117</td>\n",
              "      <td>91267.0</td>\n",
              "      <td>108.864900</td>\n",
              "      <td>793939.0</td>\n",
              "      <td>15.218</td>\n",
              "      <td>1.394</td>\n",
              "      <td>18816150.00</td>\n",
              "      <td>4.946986e+07</td>\n",
              "      <td>48130.6</td>\n",
              "    </tr>\n",
              "    <tr>\n",
              "      <th>3089</th>\n",
              "      <td>2021-09-15</td>\n",
              "      <td>47070.8</td>\n",
              "      <td>48436.5</td>\n",
              "      <td>46743.9</td>\n",
              "      <td>48130.6</td>\n",
              "      <td>268815</td>\n",
              "      <td>736726</td>\n",
              "      <td>459889</td>\n",
              "      <td>18415156832118</td>\n",
              "      <td>1.330283e+20</td>\n",
              "      <td>...</td>\n",
              "      <td>702497.0</td>\n",
              "      <td>773.643</td>\n",
              "      <td>109407.0</td>\n",
              "      <td>111.309556</td>\n",
              "      <td>823392.0</td>\n",
              "      <td>15.186</td>\n",
              "      <td>1.887</td>\n",
              "      <td>18817025.00</td>\n",
              "      <td>4.302687e+07</td>\n",
              "      <td>47748.0</td>\n",
              "    </tr>\n",
              "    <tr>\n",
              "      <th>3090</th>\n",
              "      <td>2021-09-16</td>\n",
              "      <td>48132.3</td>\n",
              "      <td>48480.6</td>\n",
              "      <td>47040.3</td>\n",
              "      <td>47748.0</td>\n",
              "      <td>271087</td>\n",
              "      <td>817607</td>\n",
              "      <td>436025</td>\n",
              "      <td>18415156832118</td>\n",
              "      <td>1.302297e+20</td>\n",
              "      <td>...</td>\n",
              "      <td>766989.0</td>\n",
              "      <td>719.701</td>\n",
              "      <td>90855.0</td>\n",
              "      <td>113.459125</td>\n",
              "      <td>879832.0</td>\n",
              "      <td>15.185</td>\n",
              "      <td>1.938</td>\n",
              "      <td>18817900.00</td>\n",
              "      <td>4.144786e+07</td>\n",
              "      <td>47282.8</td>\n",
              "    </tr>\n",
              "    <tr>\n",
              "      <th>3091</th>\n",
              "      <td>2021-09-17</td>\n",
              "      <td>47748.2</td>\n",
              "      <td>48155.9</td>\n",
              "      <td>46788.8</td>\n",
              "      <td>47282.8</td>\n",
              "      <td>270893</td>\n",
              "      <td>720056</td>\n",
              "      <td>384965</td>\n",
              "      <td>18415156832118</td>\n",
              "      <td>1.272835e+20</td>\n",
              "      <td>...</td>\n",
              "      <td>612387.0</td>\n",
              "      <td>714.990</td>\n",
              "      <td>101046.0</td>\n",
              "      <td>116.526571</td>\n",
              "      <td>823793.0</td>\n",
              "      <td>15.177</td>\n",
              "      <td>1.605</td>\n",
              "      <td>18818781.25</td>\n",
              "      <td>4.500074e+07</td>\n",
              "      <td>48306.7</td>\n",
              "    </tr>\n",
              "    <tr>\n",
              "      <th>3092</th>\n",
              "      <td>2021-09-18</td>\n",
              "      <td>47283.9</td>\n",
              "      <td>48761.0</td>\n",
              "      <td>47070.5</td>\n",
              "      <td>48306.7</td>\n",
              "      <td>227506</td>\n",
              "      <td>563189</td>\n",
              "      <td>248478</td>\n",
              "      <td>18415156832118</td>\n",
              "      <td>1.428505e+20</td>\n",
              "      <td>...</td>\n",
              "      <td>638205.0</td>\n",
              "      <td>593.076</td>\n",
              "      <td>82649.0</td>\n",
              "      <td>122.004333</td>\n",
              "      <td>701986.0</td>\n",
              "      <td>15.185</td>\n",
              "      <td>1.183</td>\n",
              "      <td>18819662.50</td>\n",
              "      <td>4.781768e+07</td>\n",
              "      <td>47328.0</td>\n",
              "    </tr>\n",
              "  </tbody>\n",
              "</table>\n",
              "<p>5 rows × 25 columns</p>\n",
              "</div>\n",
              "      <button class=\"colab-df-convert\" onclick=\"convertToInteractive('df-ef01a064-87af-4fda-9661-3ab897e5bdd0')\"\n",
              "              title=\"Convert this dataframe to an interactive table.\"\n",
              "              style=\"display:none;\">\n",
              "        \n",
              "  <svg xmlns=\"http://www.w3.org/2000/svg\" height=\"24px\"viewBox=\"0 0 24 24\"\n",
              "       width=\"24px\">\n",
              "    <path d=\"M0 0h24v24H0V0z\" fill=\"none\"/>\n",
              "    <path d=\"M18.56 5.44l.94 2.06.94-2.06 2.06-.94-2.06-.94-.94-2.06-.94 2.06-2.06.94zm-11 1L8.5 8.5l.94-2.06 2.06-.94-2.06-.94L8.5 2.5l-.94 2.06-2.06.94zm10 10l.94 2.06.94-2.06 2.06-.94-2.06-.94-.94-2.06-.94 2.06-2.06.94z\"/><path d=\"M17.41 7.96l-1.37-1.37c-.4-.4-.92-.59-1.43-.59-.52 0-1.04.2-1.43.59L10.3 9.45l-7.72 7.72c-.78.78-.78 2.05 0 2.83L4 21.41c.39.39.9.59 1.41.59.51 0 1.02-.2 1.41-.59l7.78-7.78 2.81-2.81c.8-.78.8-2.07 0-2.86zM5.41 20L4 18.59l7.72-7.72 1.47 1.35L5.41 20z\"/>\n",
              "  </svg>\n",
              "      </button>\n",
              "      \n",
              "  <style>\n",
              "    .colab-df-container {\n",
              "      display:flex;\n",
              "      flex-wrap:wrap;\n",
              "      gap: 12px;\n",
              "    }\n",
              "\n",
              "    .colab-df-convert {\n",
              "      background-color: #E8F0FE;\n",
              "      border: none;\n",
              "      border-radius: 50%;\n",
              "      cursor: pointer;\n",
              "      display: none;\n",
              "      fill: #1967D2;\n",
              "      height: 32px;\n",
              "      padding: 0 0 0 0;\n",
              "      width: 32px;\n",
              "    }\n",
              "\n",
              "    .colab-df-convert:hover {\n",
              "      background-color: #E2EBFA;\n",
              "      box-shadow: 0px 1px 2px rgba(60, 64, 67, 0.3), 0px 1px 3px 1px rgba(60, 64, 67, 0.15);\n",
              "      fill: #174EA6;\n",
              "    }\n",
              "\n",
              "    [theme=dark] .colab-df-convert {\n",
              "      background-color: #3B4455;\n",
              "      fill: #D2E3FC;\n",
              "    }\n",
              "\n",
              "    [theme=dark] .colab-df-convert:hover {\n",
              "      background-color: #434B5C;\n",
              "      box-shadow: 0px 1px 3px 1px rgba(0, 0, 0, 0.15);\n",
              "      filter: drop-shadow(0px 1px 2px rgba(0, 0, 0, 0.3));\n",
              "      fill: #FFFFFF;\n",
              "    }\n",
              "  </style>\n",
              "\n",
              "      <script>\n",
              "        const buttonEl =\n",
              "          document.querySelector('#df-ef01a064-87af-4fda-9661-3ab897e5bdd0 button.colab-df-convert');\n",
              "        buttonEl.style.display =\n",
              "          google.colab.kernel.accessAllowed ? 'block' : 'none';\n",
              "\n",
              "        async function convertToInteractive(key) {\n",
              "          const element = document.querySelector('#df-ef01a064-87af-4fda-9661-3ab897e5bdd0');\n",
              "          const dataTable =\n",
              "            await google.colab.kernel.invokeFunction('convertToInteractive',\n",
              "                                                     [key], {});\n",
              "          if (!dataTable) return;\n",
              "\n",
              "          const docLinkHtml = 'Like what you see? Visit the ' +\n",
              "            '<a target=\"_blank\" href=https://colab.research.google.com/notebooks/data_table.ipynb>data table notebook</a>'\n",
              "            + ' to learn more about interactive tables.';\n",
              "          element.innerHTML = '';\n",
              "          dataTable['output_type'] = 'display_data';\n",
              "          await google.colab.output.renderOutput(dataTable, element);\n",
              "          const docLink = document.createElement('div');\n",
              "          docLink.innerHTML = docLinkHtml;\n",
              "          element.appendChild(docLink);\n",
              "        }\n",
              "      </script>\n",
              "    </div>\n",
              "  </div>\n",
              "  "
            ]
          },
          "metadata": {},
          "execution_count": 35
        }
      ]
    },
    {
      "cell_type": "code",
      "source": [
        "df.info()"
      ],
      "metadata": {
        "colab": {
          "base_uri": "https://localhost:8080/"
        },
        "id": "R42XkMEHL0tD",
        "outputId": "d62c7241-397a-4496-8ed5-18a726a3a37e"
      },
      "execution_count": 36,
      "outputs": [
        {
          "output_type": "stream",
          "name": "stdout",
          "text": [
            "<class 'pandas.core.frame.DataFrame'>\n",
            "RangeIndex: 3093 entries, 0 to 3092\n",
            "Data columns (total 25 columns):\n",
            " #   Column                          Non-Null Count  Dtype  \n",
            "---  ------                          --------------  -----  \n",
            " 0   Date                            3093 non-null   object \n",
            " 1   opening_price                   3093 non-null   float64\n",
            " 2   highest_price                   3093 non-null   float64\n",
            " 3   lowest_price                    3093 non-null   float64\n",
            " 4   closing_price                   3093 non-null   float64\n",
            " 5   transactions_in_blockchain      3093 non-null   int64  \n",
            " 6   avg_block_size                  3093 non-null   int64  \n",
            " 7   sent_by_adress                  3093 non-null   int64  \n",
            " 8   avg_mining_difficulty           3093 non-null   int64  \n",
            " 9   avg_hashrate                    3093 non-null   float64\n",
            " 10  mining_profitability            3093 non-null   float64\n",
            " 11  sent_coins_in_usd               3093 non-null   int64  \n",
            " 12  avg_transaction_fees            3093 non-null   float64\n",
            " 13  median_transaction_fees         3093 non-null   float64\n",
            " 14  avg_block_time                  3093 non-null   float64\n",
            " 15  avg_transaction_value           3093 non-null   float64\n",
            " 16  median_transaction_value        3093 non-null   float64\n",
            " 17  tweets                          3093 non-null   float64\n",
            " 18  google_trends                   3093 non-null   float64\n",
            " 19  active_addresses                3093 non-null   float64\n",
            " 20  top100_to_total_percentage      3093 non-null   float64\n",
            " 21  avg_fee_to_reward               3093 non-null   float64\n",
            " 22  number_of_coins_in_circulation  3093 non-null   float64\n",
            " 23  miner_revenue                   3093 non-null   float64\n",
            " 24  next_day_closing_price          3093 non-null   float64\n",
            "dtypes: float64(19), int64(5), object(1)\n",
            "memory usage: 604.2+ KB\n"
          ]
        }
      ]
    },
    {
      "cell_type": "code",
      "source": [
        "df.shape"
      ],
      "metadata": {
        "colab": {
          "base_uri": "https://localhost:8080/"
        },
        "id": "EmzobIooMEuM",
        "outputId": "7539974c-7d32-45bd-85c1-d7bd5adbdbd5"
      },
      "execution_count": 37,
      "outputs": [
        {
          "output_type": "execute_result",
          "data": {
            "text/plain": [
              "(3093, 25)"
            ]
          },
          "metadata": {},
          "execution_count": 37
        }
      ]
    },
    {
      "cell_type": "code",
      "source": [
        "df.describe(include='all')"
      ],
      "metadata": {
        "colab": {
          "base_uri": "https://localhost:8080/",
          "height": 505
        },
        "id": "Lqi7efuBMN67",
        "outputId": "3785d4ff-14e1-4b7c-f998-bc2b4341a18c"
      },
      "execution_count": 38,
      "outputs": [
        {
          "output_type": "execute_result",
          "data": {
            "text/plain": [
              "              Date  opening_price  highest_price  lowest_price  closing_price  \\\n",
              "count         3093    3093.000000    3093.000000   3093.000000    3093.000000   \n",
              "unique        3093            NaN            NaN           NaN            NaN   \n",
              "top     2013-04-01            NaN            NaN           NaN            NaN   \n",
              "freq             1            NaN            NaN           NaN            NaN   \n",
              "mean           NaN    7478.787423    7704.451859   7228.984028    7494.347559   \n",
              "std            NaN   12404.192142   12790.358177  11965.543777   12425.151723   \n",
              "min            NaN      68.400000      75.000000     50.000000      68.400000   \n",
              "25%            NaN     427.100000     435.300000    417.100000     427.300000   \n",
              "50%            NaN    2541.600000    2617.500000   2472.400000    2545.400000   \n",
              "75%            NaN    8820.100000    9040.300000   8610.800000    8821.600000   \n",
              "max            NaN   63544.200000   64778.000000  62067.500000   63540.900000   \n",
              "\n",
              "        transactions_in_blockchain  avg_block_size  sent_by_adress  \\\n",
              "count                  3093.000000     3093.000000     3093.000000   \n",
              "unique                         NaN             NaN             NaN   \n",
              "top                            NaN             NaN             NaN   \n",
              "freq                           NaN             NaN             NaN   \n",
              "mean                 212004.408018   644307.604591   315140.438733   \n",
              "std                  102204.862259   273438.916788   152655.587696   \n",
              "min                   30170.000000    76067.000000    30829.000000   \n",
              "25%                  106160.000000   410596.000000   173768.000000   \n",
              "50%                  229295.000000   730092.000000   335962.000000   \n",
              "75%                  296817.000000   880952.000000   428831.000000   \n",
              "max                  490459.000000   998092.000000   730199.000000   \n",
              "\n",
              "        avg_mining_difficulty  avg_hashrate  ...  avg_transaction_value  \\\n",
              "count            3.093000e+03  3.093000e+03  ...           3.093000e+03   \n",
              "unique                    NaN           NaN  ...                    NaN   \n",
              "top                       NaN           NaN  ...                    NaN   \n",
              "freq                      NaN           NaN  ...                    NaN   \n",
              "mean             5.416214e+12  3.923394e+19  ...           5.289076e+04   \n",
              "std              7.181598e+12  5.172006e+19  ...           1.223717e+05   \n",
              "min              6.695826e+06  5.181545e+13  ...           8.893450e+02   \n",
              "25%              4.764340e+10  3.506746e+17  ...           4.389000e+03   \n",
              "50%              7.086595e+11  5.168519e+18  ...           1.559100e+04   \n",
              "75%              9.985348e+12  7.263994e+19  ...           3.674800e+04   \n",
              "max              2.504649e+13  1.976095e+20  ...           1.932378e+06   \n",
              "\n",
              "        median_transaction_value         tweets  google_trends  \\\n",
              "count                3093.000000    3093.000000    3093.000000   \n",
              "unique                       NaN            NaN            NaN   \n",
              "top                          NaN            NaN            NaN   \n",
              "freq                         NaN            NaN            NaN   \n",
              "mean                  350.846155   35889.309787      44.134386   \n",
              "std                   459.933644   30663.425155      56.718282   \n",
              "min                     0.091700    7300.000000       3.821000   \n",
              "25%                   110.480000   18727.000000       8.707000   \n",
              "50%                   206.481000   25897.000000      29.850000   \n",
              "75%                   453.410000   39572.772727      49.354000   \n",
              "max                  5417.000000  363566.000000     616.867000   \n",
              "\n",
              "        active_addresses  top100_to_total_percentage  avg_fee_to_reward  \\\n",
              "count       3.093000e+03                 3093.000000        3093.000000   \n",
              "unique               NaN                         NaN                NaN   \n",
              "top                  NaN                         NaN                NaN   \n",
              "freq                 NaN                         NaN                NaN   \n",
              "mean        4.917852e+05                   17.890455           4.084758   \n",
              "std         2.617263e+05                    2.384311           5.462011   \n",
              "min         4.840200e+04                   13.144000           0.183000   \n",
              "25%         2.362800e+05                   15.458000           0.718000   \n",
              "50%         5.161620e+05                   18.639000           1.447000   \n",
              "75%         6.728410e+05                   19.834000           5.547000   \n",
              "max         1.196069e+06                   22.081000          43.580000   \n",
              "\n",
              "        number_of_coins_in_circulation  miner_revenue  next_day_closing_price  \n",
              "count                     3.093000e+03   3.093000e+03             3093.000000  \n",
              "unique                             NaN            NaN                     NaN  \n",
              "top                                NaN            NaN                     NaN  \n",
              "freq                               NaN            NaN                     NaN  \n",
              "mean                      1.591747e+07   1.054620e+07             7509.615584  \n",
              "std                       2.255772e+06   1.320106e+07            12445.065991  \n",
              "min                       1.097528e+07   3.099004e+05               68.400000  \n",
              "25%                       1.416458e+07   1.458738e+06              427.600000  \n",
              "50%                       1.640969e+07   5.461151e+06             2558.400000  \n",
              "75%                       1.786376e+07   1.478203e+07             8829.200000  \n",
              "max                       1.881966e+07   8.017224e+07            63540.900000  \n",
              "\n",
              "[11 rows x 25 columns]"
            ],
            "text/html": [
              "\n",
              "  <div id=\"df-720995bc-62cf-4255-a434-8ae5db8b8e95\">\n",
              "    <div class=\"colab-df-container\">\n",
              "      <div>\n",
              "<style scoped>\n",
              "    .dataframe tbody tr th:only-of-type {\n",
              "        vertical-align: middle;\n",
              "    }\n",
              "\n",
              "    .dataframe tbody tr th {\n",
              "        vertical-align: top;\n",
              "    }\n",
              "\n",
              "    .dataframe thead th {\n",
              "        text-align: right;\n",
              "    }\n",
              "</style>\n",
              "<table border=\"1\" class=\"dataframe\">\n",
              "  <thead>\n",
              "    <tr style=\"text-align: right;\">\n",
              "      <th></th>\n",
              "      <th>Date</th>\n",
              "      <th>opening_price</th>\n",
              "      <th>highest_price</th>\n",
              "      <th>lowest_price</th>\n",
              "      <th>closing_price</th>\n",
              "      <th>transactions_in_blockchain</th>\n",
              "      <th>avg_block_size</th>\n",
              "      <th>sent_by_adress</th>\n",
              "      <th>avg_mining_difficulty</th>\n",
              "      <th>avg_hashrate</th>\n",
              "      <th>...</th>\n",
              "      <th>avg_transaction_value</th>\n",
              "      <th>median_transaction_value</th>\n",
              "      <th>tweets</th>\n",
              "      <th>google_trends</th>\n",
              "      <th>active_addresses</th>\n",
              "      <th>top100_to_total_percentage</th>\n",
              "      <th>avg_fee_to_reward</th>\n",
              "      <th>number_of_coins_in_circulation</th>\n",
              "      <th>miner_revenue</th>\n",
              "      <th>next_day_closing_price</th>\n",
              "    </tr>\n",
              "  </thead>\n",
              "  <tbody>\n",
              "    <tr>\n",
              "      <th>count</th>\n",
              "      <td>3093</td>\n",
              "      <td>3093.000000</td>\n",
              "      <td>3093.000000</td>\n",
              "      <td>3093.000000</td>\n",
              "      <td>3093.000000</td>\n",
              "      <td>3093.000000</td>\n",
              "      <td>3093.000000</td>\n",
              "      <td>3093.000000</td>\n",
              "      <td>3.093000e+03</td>\n",
              "      <td>3.093000e+03</td>\n",
              "      <td>...</td>\n",
              "      <td>3.093000e+03</td>\n",
              "      <td>3093.000000</td>\n",
              "      <td>3093.000000</td>\n",
              "      <td>3093.000000</td>\n",
              "      <td>3.093000e+03</td>\n",
              "      <td>3093.000000</td>\n",
              "      <td>3093.000000</td>\n",
              "      <td>3.093000e+03</td>\n",
              "      <td>3.093000e+03</td>\n",
              "      <td>3093.000000</td>\n",
              "    </tr>\n",
              "    <tr>\n",
              "      <th>unique</th>\n",
              "      <td>3093</td>\n",
              "      <td>NaN</td>\n",
              "      <td>NaN</td>\n",
              "      <td>NaN</td>\n",
              "      <td>NaN</td>\n",
              "      <td>NaN</td>\n",
              "      <td>NaN</td>\n",
              "      <td>NaN</td>\n",
              "      <td>NaN</td>\n",
              "      <td>NaN</td>\n",
              "      <td>...</td>\n",
              "      <td>NaN</td>\n",
              "      <td>NaN</td>\n",
              "      <td>NaN</td>\n",
              "      <td>NaN</td>\n",
              "      <td>NaN</td>\n",
              "      <td>NaN</td>\n",
              "      <td>NaN</td>\n",
              "      <td>NaN</td>\n",
              "      <td>NaN</td>\n",
              "      <td>NaN</td>\n",
              "    </tr>\n",
              "    <tr>\n",
              "      <th>top</th>\n",
              "      <td>2013-04-01</td>\n",
              "      <td>NaN</td>\n",
              "      <td>NaN</td>\n",
              "      <td>NaN</td>\n",
              "      <td>NaN</td>\n",
              "      <td>NaN</td>\n",
              "      <td>NaN</td>\n",
              "      <td>NaN</td>\n",
              "      <td>NaN</td>\n",
              "      <td>NaN</td>\n",
              "      <td>...</td>\n",
              "      <td>NaN</td>\n",
              "      <td>NaN</td>\n",
              "      <td>NaN</td>\n",
              "      <td>NaN</td>\n",
              "      <td>NaN</td>\n",
              "      <td>NaN</td>\n",
              "      <td>NaN</td>\n",
              "      <td>NaN</td>\n",
              "      <td>NaN</td>\n",
              "      <td>NaN</td>\n",
              "    </tr>\n",
              "    <tr>\n",
              "      <th>freq</th>\n",
              "      <td>1</td>\n",
              "      <td>NaN</td>\n",
              "      <td>NaN</td>\n",
              "      <td>NaN</td>\n",
              "      <td>NaN</td>\n",
              "      <td>NaN</td>\n",
              "      <td>NaN</td>\n",
              "      <td>NaN</td>\n",
              "      <td>NaN</td>\n",
              "      <td>NaN</td>\n",
              "      <td>...</td>\n",
              "      <td>NaN</td>\n",
              "      <td>NaN</td>\n",
              "      <td>NaN</td>\n",
              "      <td>NaN</td>\n",
              "      <td>NaN</td>\n",
              "      <td>NaN</td>\n",
              "      <td>NaN</td>\n",
              "      <td>NaN</td>\n",
              "      <td>NaN</td>\n",
              "      <td>NaN</td>\n",
              "    </tr>\n",
              "    <tr>\n",
              "      <th>mean</th>\n",
              "      <td>NaN</td>\n",
              "      <td>7478.787423</td>\n",
              "      <td>7704.451859</td>\n",
              "      <td>7228.984028</td>\n",
              "      <td>7494.347559</td>\n",
              "      <td>212004.408018</td>\n",
              "      <td>644307.604591</td>\n",
              "      <td>315140.438733</td>\n",
              "      <td>5.416214e+12</td>\n",
              "      <td>3.923394e+19</td>\n",
              "      <td>...</td>\n",
              "      <td>5.289076e+04</td>\n",
              "      <td>350.846155</td>\n",
              "      <td>35889.309787</td>\n",
              "      <td>44.134386</td>\n",
              "      <td>4.917852e+05</td>\n",
              "      <td>17.890455</td>\n",
              "      <td>4.084758</td>\n",
              "      <td>1.591747e+07</td>\n",
              "      <td>1.054620e+07</td>\n",
              "      <td>7509.615584</td>\n",
              "    </tr>\n",
              "    <tr>\n",
              "      <th>std</th>\n",
              "      <td>NaN</td>\n",
              "      <td>12404.192142</td>\n",
              "      <td>12790.358177</td>\n",
              "      <td>11965.543777</td>\n",
              "      <td>12425.151723</td>\n",
              "      <td>102204.862259</td>\n",
              "      <td>273438.916788</td>\n",
              "      <td>152655.587696</td>\n",
              "      <td>7.181598e+12</td>\n",
              "      <td>5.172006e+19</td>\n",
              "      <td>...</td>\n",
              "      <td>1.223717e+05</td>\n",
              "      <td>459.933644</td>\n",
              "      <td>30663.425155</td>\n",
              "      <td>56.718282</td>\n",
              "      <td>2.617263e+05</td>\n",
              "      <td>2.384311</td>\n",
              "      <td>5.462011</td>\n",
              "      <td>2.255772e+06</td>\n",
              "      <td>1.320106e+07</td>\n",
              "      <td>12445.065991</td>\n",
              "    </tr>\n",
              "    <tr>\n",
              "      <th>min</th>\n",
              "      <td>NaN</td>\n",
              "      <td>68.400000</td>\n",
              "      <td>75.000000</td>\n",
              "      <td>50.000000</td>\n",
              "      <td>68.400000</td>\n",
              "      <td>30170.000000</td>\n",
              "      <td>76067.000000</td>\n",
              "      <td>30829.000000</td>\n",
              "      <td>6.695826e+06</td>\n",
              "      <td>5.181545e+13</td>\n",
              "      <td>...</td>\n",
              "      <td>8.893450e+02</td>\n",
              "      <td>0.091700</td>\n",
              "      <td>7300.000000</td>\n",
              "      <td>3.821000</td>\n",
              "      <td>4.840200e+04</td>\n",
              "      <td>13.144000</td>\n",
              "      <td>0.183000</td>\n",
              "      <td>1.097528e+07</td>\n",
              "      <td>3.099004e+05</td>\n",
              "      <td>68.400000</td>\n",
              "    </tr>\n",
              "    <tr>\n",
              "      <th>25%</th>\n",
              "      <td>NaN</td>\n",
              "      <td>427.100000</td>\n",
              "      <td>435.300000</td>\n",
              "      <td>417.100000</td>\n",
              "      <td>427.300000</td>\n",
              "      <td>106160.000000</td>\n",
              "      <td>410596.000000</td>\n",
              "      <td>173768.000000</td>\n",
              "      <td>4.764340e+10</td>\n",
              "      <td>3.506746e+17</td>\n",
              "      <td>...</td>\n",
              "      <td>4.389000e+03</td>\n",
              "      <td>110.480000</td>\n",
              "      <td>18727.000000</td>\n",
              "      <td>8.707000</td>\n",
              "      <td>2.362800e+05</td>\n",
              "      <td>15.458000</td>\n",
              "      <td>0.718000</td>\n",
              "      <td>1.416458e+07</td>\n",
              "      <td>1.458738e+06</td>\n",
              "      <td>427.600000</td>\n",
              "    </tr>\n",
              "    <tr>\n",
              "      <th>50%</th>\n",
              "      <td>NaN</td>\n",
              "      <td>2541.600000</td>\n",
              "      <td>2617.500000</td>\n",
              "      <td>2472.400000</td>\n",
              "      <td>2545.400000</td>\n",
              "      <td>229295.000000</td>\n",
              "      <td>730092.000000</td>\n",
              "      <td>335962.000000</td>\n",
              "      <td>7.086595e+11</td>\n",
              "      <td>5.168519e+18</td>\n",
              "      <td>...</td>\n",
              "      <td>1.559100e+04</td>\n",
              "      <td>206.481000</td>\n",
              "      <td>25897.000000</td>\n",
              "      <td>29.850000</td>\n",
              "      <td>5.161620e+05</td>\n",
              "      <td>18.639000</td>\n",
              "      <td>1.447000</td>\n",
              "      <td>1.640969e+07</td>\n",
              "      <td>5.461151e+06</td>\n",
              "      <td>2558.400000</td>\n",
              "    </tr>\n",
              "    <tr>\n",
              "      <th>75%</th>\n",
              "      <td>NaN</td>\n",
              "      <td>8820.100000</td>\n",
              "      <td>9040.300000</td>\n",
              "      <td>8610.800000</td>\n",
              "      <td>8821.600000</td>\n",
              "      <td>296817.000000</td>\n",
              "      <td>880952.000000</td>\n",
              "      <td>428831.000000</td>\n",
              "      <td>9.985348e+12</td>\n",
              "      <td>7.263994e+19</td>\n",
              "      <td>...</td>\n",
              "      <td>3.674800e+04</td>\n",
              "      <td>453.410000</td>\n",
              "      <td>39572.772727</td>\n",
              "      <td>49.354000</td>\n",
              "      <td>6.728410e+05</td>\n",
              "      <td>19.834000</td>\n",
              "      <td>5.547000</td>\n",
              "      <td>1.786376e+07</td>\n",
              "      <td>1.478203e+07</td>\n",
              "      <td>8829.200000</td>\n",
              "    </tr>\n",
              "    <tr>\n",
              "      <th>max</th>\n",
              "      <td>NaN</td>\n",
              "      <td>63544.200000</td>\n",
              "      <td>64778.000000</td>\n",
              "      <td>62067.500000</td>\n",
              "      <td>63540.900000</td>\n",
              "      <td>490459.000000</td>\n",
              "      <td>998092.000000</td>\n",
              "      <td>730199.000000</td>\n",
              "      <td>2.504649e+13</td>\n",
              "      <td>1.976095e+20</td>\n",
              "      <td>...</td>\n",
              "      <td>1.932378e+06</td>\n",
              "      <td>5417.000000</td>\n",
              "      <td>363566.000000</td>\n",
              "      <td>616.867000</td>\n",
              "      <td>1.196069e+06</td>\n",
              "      <td>22.081000</td>\n",
              "      <td>43.580000</td>\n",
              "      <td>1.881966e+07</td>\n",
              "      <td>8.017224e+07</td>\n",
              "      <td>63540.900000</td>\n",
              "    </tr>\n",
              "  </tbody>\n",
              "</table>\n",
              "<p>11 rows × 25 columns</p>\n",
              "</div>\n",
              "      <button class=\"colab-df-convert\" onclick=\"convertToInteractive('df-720995bc-62cf-4255-a434-8ae5db8b8e95')\"\n",
              "              title=\"Convert this dataframe to an interactive table.\"\n",
              "              style=\"display:none;\">\n",
              "        \n",
              "  <svg xmlns=\"http://www.w3.org/2000/svg\" height=\"24px\"viewBox=\"0 0 24 24\"\n",
              "       width=\"24px\">\n",
              "    <path d=\"M0 0h24v24H0V0z\" fill=\"none\"/>\n",
              "    <path d=\"M18.56 5.44l.94 2.06.94-2.06 2.06-.94-2.06-.94-.94-2.06-.94 2.06-2.06.94zm-11 1L8.5 8.5l.94-2.06 2.06-.94-2.06-.94L8.5 2.5l-.94 2.06-2.06.94zm10 10l.94 2.06.94-2.06 2.06-.94-2.06-.94-.94-2.06-.94 2.06-2.06.94z\"/><path d=\"M17.41 7.96l-1.37-1.37c-.4-.4-.92-.59-1.43-.59-.52 0-1.04.2-1.43.59L10.3 9.45l-7.72 7.72c-.78.78-.78 2.05 0 2.83L4 21.41c.39.39.9.59 1.41.59.51 0 1.02-.2 1.41-.59l7.78-7.78 2.81-2.81c.8-.78.8-2.07 0-2.86zM5.41 20L4 18.59l7.72-7.72 1.47 1.35L5.41 20z\"/>\n",
              "  </svg>\n",
              "      </button>\n",
              "      \n",
              "  <style>\n",
              "    .colab-df-container {\n",
              "      display:flex;\n",
              "      flex-wrap:wrap;\n",
              "      gap: 12px;\n",
              "    }\n",
              "\n",
              "    .colab-df-convert {\n",
              "      background-color: #E8F0FE;\n",
              "      border: none;\n",
              "      border-radius: 50%;\n",
              "      cursor: pointer;\n",
              "      display: none;\n",
              "      fill: #1967D2;\n",
              "      height: 32px;\n",
              "      padding: 0 0 0 0;\n",
              "      width: 32px;\n",
              "    }\n",
              "\n",
              "    .colab-df-convert:hover {\n",
              "      background-color: #E2EBFA;\n",
              "      box-shadow: 0px 1px 2px rgba(60, 64, 67, 0.3), 0px 1px 3px 1px rgba(60, 64, 67, 0.15);\n",
              "      fill: #174EA6;\n",
              "    }\n",
              "\n",
              "    [theme=dark] .colab-df-convert {\n",
              "      background-color: #3B4455;\n",
              "      fill: #D2E3FC;\n",
              "    }\n",
              "\n",
              "    [theme=dark] .colab-df-convert:hover {\n",
              "      background-color: #434B5C;\n",
              "      box-shadow: 0px 1px 3px 1px rgba(0, 0, 0, 0.15);\n",
              "      filter: drop-shadow(0px 1px 2px rgba(0, 0, 0, 0.3));\n",
              "      fill: #FFFFFF;\n",
              "    }\n",
              "  </style>\n",
              "\n",
              "      <script>\n",
              "        const buttonEl =\n",
              "          document.querySelector('#df-720995bc-62cf-4255-a434-8ae5db8b8e95 button.colab-df-convert');\n",
              "        buttonEl.style.display =\n",
              "          google.colab.kernel.accessAllowed ? 'block' : 'none';\n",
              "\n",
              "        async function convertToInteractive(key) {\n",
              "          const element = document.querySelector('#df-720995bc-62cf-4255-a434-8ae5db8b8e95');\n",
              "          const dataTable =\n",
              "            await google.colab.kernel.invokeFunction('convertToInteractive',\n",
              "                                                     [key], {});\n",
              "          if (!dataTable) return;\n",
              "\n",
              "          const docLinkHtml = 'Like what you see? Visit the ' +\n",
              "            '<a target=\"_blank\" href=https://colab.research.google.com/notebooks/data_table.ipynb>data table notebook</a>'\n",
              "            + ' to learn more about interactive tables.';\n",
              "          element.innerHTML = '';\n",
              "          dataTable['output_type'] = 'display_data';\n",
              "          await google.colab.output.renderOutput(dataTable, element);\n",
              "          const docLink = document.createElement('div');\n",
              "          docLink.innerHTML = docLinkHtml;\n",
              "          element.appendChild(docLink);\n",
              "        }\n",
              "      </script>\n",
              "    </div>\n",
              "  </div>\n",
              "  "
            ]
          },
          "metadata": {},
          "execution_count": 38
        }
      ]
    },
    {
      "cell_type": "code",
      "source": [
        "df.columns"
      ],
      "metadata": {
        "colab": {
          "base_uri": "https://localhost:8080/"
        },
        "id": "MYpeVBkPMVTm",
        "outputId": "425aa7ff-26e5-4855-873a-5a503215251f"
      },
      "execution_count": 39,
      "outputs": [
        {
          "output_type": "execute_result",
          "data": {
            "text/plain": [
              "Index(['Date', 'opening_price', 'highest_price', 'lowest_price',\n",
              "       'closing_price', 'transactions_in_blockchain', 'avg_block_size',\n",
              "       'sent_by_adress', 'avg_mining_difficulty', 'avg_hashrate',\n",
              "       'mining_profitability', 'sent_coins_in_usd', 'avg_transaction_fees',\n",
              "       'median_transaction_fees', 'avg_block_time', 'avg_transaction_value',\n",
              "       'median_transaction_value', 'tweets', 'google_trends',\n",
              "       'active_addresses', 'top100_to_total_percentage', 'avg_fee_to_reward',\n",
              "       'number_of_coins_in_circulation', 'miner_revenue',\n",
              "       'next_day_closing_price'],\n",
              "      dtype='object')"
            ]
          },
          "metadata": {},
          "execution_count": 39
        }
      ]
    },
    {
      "cell_type": "code",
      "source": [
        "df['opening_price']"
      ],
      "metadata": {
        "colab": {
          "base_uri": "https://localhost:8080/"
        },
        "id": "QnjbNaIiMdCj",
        "outputId": "5821dcc8-0a5c-406f-cfd9-f24895c4daf8"
      },
      "execution_count": 40,
      "outputs": [
        {
          "output_type": "execute_result",
          "data": {
            "text/plain": [
              "0          93.0\n",
              "1         104.0\n",
              "2         118.0\n",
              "3         135.0\n",
              "4         132.1\n",
              "         ...   \n",
              "3088    44950.2\n",
              "3089    47070.8\n",
              "3090    48132.3\n",
              "3091    47748.2\n",
              "3092    47283.9\n",
              "Name: opening_price, Length: 3093, dtype: float64"
            ]
          },
          "metadata": {},
          "execution_count": 40
        }
      ]
    },
    {
      "cell_type": "code",
      "source": [
        "df['opening_price'].shape"
      ],
      "metadata": {
        "colab": {
          "base_uri": "https://localhost:8080/"
        },
        "id": "wrqtNc6vMihv",
        "outputId": "c496e601-3fff-450c-f9a1-b8fcb6645024"
      },
      "execution_count": 41,
      "outputs": [
        {
          "output_type": "execute_result",
          "data": {
            "text/plain": [
              "(3093,)"
            ]
          },
          "metadata": {},
          "execution_count": 41
        }
      ]
    },
    {
      "cell_type": "code",
      "source": [
        "df['opening_price'].unique()"
      ],
      "metadata": {
        "colab": {
          "base_uri": "https://localhost:8080/"
        },
        "id": "HnWbmuCUMwy1",
        "outputId": "0f4225ad-a2d4-42fc-ccfd-8ae8a87e2063"
      },
      "execution_count": 42,
      "outputs": [
        {
          "output_type": "execute_result",
          "data": {
            "text/plain": [
              "array([   93. ,   104. ,   118. , ..., 48132.3, 47748.2, 47283.9])"
            ]
          },
          "metadata": {},
          "execution_count": 42
        }
      ]
    },
    {
      "cell_type": "code",
      "source": [
        "df['opening_price'].nunique()"
      ],
      "metadata": {
        "colab": {
          "base_uri": "https://localhost:8080/"
        },
        "id": "aTk2G53CM-F1",
        "outputId": "f8e2164b-89c5-414a-fd2e-af9b10951c77"
      },
      "execution_count": 43,
      "outputs": [
        {
          "output_type": "execute_result",
          "data": {
            "text/plain": [
              "2907"
            ]
          },
          "metadata": {},
          "execution_count": 43
        }
      ]
    },
    {
      "cell_type": "code",
      "source": [
        "df['opening_price'].value_counts()"
      ],
      "metadata": {
        "colab": {
          "base_uri": "https://localhost:8080/"
        },
        "id": "rYyQZBaPNFZt",
        "outputId": "8f2b826e-c581-4633-997a-8ed1e3594a23"
      },
      "execution_count": 44,
      "outputs": [
        {
          "output_type": "execute_result",
          "data": {
            "text/plain": [
              "238.9      4\n",
              "233.8      3\n",
              "109.0      3\n",
              "231.1      3\n",
              "237.3      3\n",
              "          ..\n",
              "664.4      1\n",
              "664.6      1\n",
              "651.1      1\n",
              "655.2      1\n",
              "47283.9    1\n",
              "Name: opening_price, Length: 2907, dtype: int64"
            ]
          },
          "metadata": {},
          "execution_count": 44
        }
      ]
    },
    {
      "cell_type": "code",
      "source": [
        "df.isna().sum()"
      ],
      "metadata": {
        "colab": {
          "base_uri": "https://localhost:8080/"
        },
        "id": "7Pc2EDLkNOT8",
        "outputId": "f5ba883f-4647-4664-d50a-ceed1a8ea472"
      },
      "execution_count": 45,
      "outputs": [
        {
          "output_type": "execute_result",
          "data": {
            "text/plain": [
              "Date                              0\n",
              "opening_price                     0\n",
              "highest_price                     0\n",
              "lowest_price                      0\n",
              "closing_price                     0\n",
              "transactions_in_blockchain        0\n",
              "avg_block_size                    0\n",
              "sent_by_adress                    0\n",
              "avg_mining_difficulty             0\n",
              "avg_hashrate                      0\n",
              "mining_profitability              0\n",
              "sent_coins_in_usd                 0\n",
              "avg_transaction_fees              0\n",
              "median_transaction_fees           0\n",
              "avg_block_time                    0\n",
              "avg_transaction_value             0\n",
              "median_transaction_value          0\n",
              "tweets                            0\n",
              "google_trends                     0\n",
              "active_addresses                  0\n",
              "top100_to_total_percentage        0\n",
              "avg_fee_to_reward                 0\n",
              "number_of_coins_in_circulation    0\n",
              "miner_revenue                     0\n",
              "next_day_closing_price            0\n",
              "dtype: int64"
            ]
          },
          "metadata": {},
          "execution_count": 45
        }
      ]
    },
    {
      "cell_type": "code",
      "source": [
        "df.isnull().sum()"
      ],
      "metadata": {
        "colab": {
          "base_uri": "https://localhost:8080/"
        },
        "id": "jPg8U72_NY__",
        "outputId": "355d1959-c485-4fe4-b74b-e81a0bca2b24"
      },
      "execution_count": 46,
      "outputs": [
        {
          "output_type": "execute_result",
          "data": {
            "text/plain": [
              "Date                              0\n",
              "opening_price                     0\n",
              "highest_price                     0\n",
              "lowest_price                      0\n",
              "closing_price                     0\n",
              "transactions_in_blockchain        0\n",
              "avg_block_size                    0\n",
              "sent_by_adress                    0\n",
              "avg_mining_difficulty             0\n",
              "avg_hashrate                      0\n",
              "mining_profitability              0\n",
              "sent_coins_in_usd                 0\n",
              "avg_transaction_fees              0\n",
              "median_transaction_fees           0\n",
              "avg_block_time                    0\n",
              "avg_transaction_value             0\n",
              "median_transaction_value          0\n",
              "tweets                            0\n",
              "google_trends                     0\n",
              "active_addresses                  0\n",
              "top100_to_total_percentage        0\n",
              "avg_fee_to_reward                 0\n",
              "number_of_coins_in_circulation    0\n",
              "miner_revenue                     0\n",
              "next_day_closing_price            0\n",
              "dtype: int64"
            ]
          },
          "metadata": {},
          "execution_count": 46
        }
      ]
    },
    {
      "cell_type": "markdown",
      "source": [
        "Define target & feature\n",
        "Present X and Y\n",
        "X: Opening price\n",
        "Y:closing price "
      ],
      "metadata": {
        "id": "DSzVQXReLV6-"
      }
    },
    {
      "cell_type": "code",
      "source": [
        "Y = df['closing_price']\n",
        "X =df[['opening_price']]"
      ],
      "metadata": {
        "id": "QARlNeTrLqf2"
      },
      "execution_count": 47,
      "outputs": []
    },
    {
      "cell_type": "code",
      "source": [
        "X.shape\n"
      ],
      "metadata": {
        "colab": {
          "base_uri": "https://localhost:8080/"
        },
        "id": "BicDlDrWL60G",
        "outputId": "0ec2e675-95cf-45d6-8993-739a34851978"
      },
      "execution_count": 48,
      "outputs": [
        {
          "output_type": "execute_result",
          "data": {
            "text/plain": [
              "(3093, 1)"
            ]
          },
          "metadata": {},
          "execution_count": 48
        }
      ]
    },
    {
      "cell_type": "code",
      "source": [
        "Y.shape"
      ],
      "metadata": {
        "colab": {
          "base_uri": "https://localhost:8080/"
        },
        "id": "NFpDXyDUL_bJ",
        "outputId": "97744f1c-cccf-44be-93f3-c3ec00756aa7"
      },
      "execution_count": 49,
      "outputs": [
        {
          "output_type": "execute_result",
          "data": {
            "text/plain": [
              "(3093,)"
            ]
          },
          "metadata": {},
          "execution_count": 49
        }
      ]
    },
    {
      "cell_type": "markdown",
      "source": [
        "Trian and test split"
      ],
      "metadata": {
        "id": "C21q4BhGNZlb"
      }
    },
    {
      "cell_type": "code",
      "source": [
        "from sklearn.model_selection import train_test_split"
      ],
      "metadata": {
        "id": "uyP5meumONSt"
      },
      "execution_count": 50,
      "outputs": []
    },
    {
      "cell_type": "code",
      "source": [
        "X_train ,X_test,Y_train, Y_test=train_test_split(X,Y)"
      ],
      "metadata": {
        "id": "c_ESclhNPIk7"
      },
      "execution_count": 51,
      "outputs": []
    },
    {
      "cell_type": "code",
      "source": [
        "X_train.shape , X_test.shape,Y_train.shape, Y_test.shape"
      ],
      "metadata": {
        "colab": {
          "base_uri": "https://localhost:8080/"
        },
        "id": "0KqOUYmWPe95",
        "outputId": "ac44da8d-b13f-4587-dc6f-2cbbe3c44cc1"
      },
      "execution_count": 52,
      "outputs": [
        {
          "output_type": "execute_result",
          "data": {
            "text/plain": [
              "((2319, 1), (774, 1), (2319,), (774,))"
            ]
          },
          "metadata": {},
          "execution_count": 52
        }
      ]
    },
    {
      "cell_type": "markdown",
      "source": [
        "Model selection "
      ],
      "metadata": {
        "id": "CrO1HDzBCnpU"
      }
    },
    {
      "cell_type": "code",
      "source": [
        "from sklearn.linear_model import LinearRegression \n",
        "model = LinearRegression() "
      ],
      "metadata": {
        "id": "jY9BP--aO3Id"
      },
      "execution_count": 53,
      "outputs": []
    },
    {
      "cell_type": "markdown",
      "source": [
        "train model(fit model)"
      ],
      "metadata": {
        "id": "IcZJPPoMPXi3"
      }
    },
    {
      "cell_type": "code",
      "source": [
        "model.fit(X_train,Y_train)"
      ],
      "metadata": {
        "colab": {
          "base_uri": "https://localhost:8080/",
          "height": 74
        },
        "id": "IYRZYsVEPcem",
        "outputId": "88101e9a-6daf-4439-fc5f-e489365bb4bb"
      },
      "execution_count": 54,
      "outputs": [
        {
          "output_type": "execute_result",
          "data": {
            "text/plain": [
              "LinearRegression()"
            ],
            "text/html": [
              "<style>#sk-container-id-2 {color: black;background-color: white;}#sk-container-id-2 pre{padding: 0;}#sk-container-id-2 div.sk-toggleable {background-color: white;}#sk-container-id-2 label.sk-toggleable__label {cursor: pointer;display: block;width: 100%;margin-bottom: 0;padding: 0.3em;box-sizing: border-box;text-align: center;}#sk-container-id-2 label.sk-toggleable__label-arrow:before {content: \"▸\";float: left;margin-right: 0.25em;color: #696969;}#sk-container-id-2 label.sk-toggleable__label-arrow:hover:before {color: black;}#sk-container-id-2 div.sk-estimator:hover label.sk-toggleable__label-arrow:before {color: black;}#sk-container-id-2 div.sk-toggleable__content {max-height: 0;max-width: 0;overflow: hidden;text-align: left;background-color: #f0f8ff;}#sk-container-id-2 div.sk-toggleable__content pre {margin: 0.2em;color: black;border-radius: 0.25em;background-color: #f0f8ff;}#sk-container-id-2 input.sk-toggleable__control:checked~div.sk-toggleable__content {max-height: 200px;max-width: 100%;overflow: auto;}#sk-container-id-2 input.sk-toggleable__control:checked~label.sk-toggleable__label-arrow:before {content: \"▾\";}#sk-container-id-2 div.sk-estimator input.sk-toggleable__control:checked~label.sk-toggleable__label {background-color: #d4ebff;}#sk-container-id-2 div.sk-label input.sk-toggleable__control:checked~label.sk-toggleable__label {background-color: #d4ebff;}#sk-container-id-2 input.sk-hidden--visually {border: 0;clip: rect(1px 1px 1px 1px);clip: rect(1px, 1px, 1px, 1px);height: 1px;margin: -1px;overflow: hidden;padding: 0;position: absolute;width: 1px;}#sk-container-id-2 div.sk-estimator {font-family: monospace;background-color: #f0f8ff;border: 1px dotted black;border-radius: 0.25em;box-sizing: border-box;margin-bottom: 0.5em;}#sk-container-id-2 div.sk-estimator:hover {background-color: #d4ebff;}#sk-container-id-2 div.sk-parallel-item::after {content: \"\";width: 100%;border-bottom: 1px solid gray;flex-grow: 1;}#sk-container-id-2 div.sk-label:hover label.sk-toggleable__label {background-color: #d4ebff;}#sk-container-id-2 div.sk-serial::before {content: \"\";position: absolute;border-left: 1px solid gray;box-sizing: border-box;top: 0;bottom: 0;left: 50%;z-index: 0;}#sk-container-id-2 div.sk-serial {display: flex;flex-direction: column;align-items: center;background-color: white;padding-right: 0.2em;padding-left: 0.2em;position: relative;}#sk-container-id-2 div.sk-item {position: relative;z-index: 1;}#sk-container-id-2 div.sk-parallel {display: flex;align-items: stretch;justify-content: center;background-color: white;position: relative;}#sk-container-id-2 div.sk-item::before, #sk-container-id-2 div.sk-parallel-item::before {content: \"\";position: absolute;border-left: 1px solid gray;box-sizing: border-box;top: 0;bottom: 0;left: 50%;z-index: -1;}#sk-container-id-2 div.sk-parallel-item {display: flex;flex-direction: column;z-index: 1;position: relative;background-color: white;}#sk-container-id-2 div.sk-parallel-item:first-child::after {align-self: flex-end;width: 50%;}#sk-container-id-2 div.sk-parallel-item:last-child::after {align-self: flex-start;width: 50%;}#sk-container-id-2 div.sk-parallel-item:only-child::after {width: 0;}#sk-container-id-2 div.sk-dashed-wrapped {border: 1px dashed gray;margin: 0 0.4em 0.5em 0.4em;box-sizing: border-box;padding-bottom: 0.4em;background-color: white;}#sk-container-id-2 div.sk-label label {font-family: monospace;font-weight: bold;display: inline-block;line-height: 1.2em;}#sk-container-id-2 div.sk-label-container {text-align: center;}#sk-container-id-2 div.sk-container {/* jupyter's `normalize.less` sets `[hidden] { display: none; }` but bootstrap.min.css set `[hidden] { display: none !important; }` so we also need the `!important` here to be able to override the default hidden behavior on the sphinx rendered scikit-learn.org. See: https://github.com/scikit-learn/scikit-learn/issues/21755 */display: inline-block !important;position: relative;}#sk-container-id-2 div.sk-text-repr-fallback {display: none;}</style><div id=\"sk-container-id-2\" class=\"sk-top-container\"><div class=\"sk-text-repr-fallback\"><pre>LinearRegression()</pre><b>In a Jupyter environment, please rerun this cell to show the HTML representation or trust the notebook. <br />On GitHub, the HTML representation is unable to render, please try loading this page with nbviewer.org.</b></div><div class=\"sk-container\" hidden><div class=\"sk-item\"><div class=\"sk-estimator sk-toggleable\"><input class=\"sk-toggleable__control sk-hidden--visually\" id=\"sk-estimator-id-2\" type=\"checkbox\" checked><label for=\"sk-estimator-id-2\" class=\"sk-toggleable__label sk-toggleable__label-arrow\">LinearRegression</label><div class=\"sk-toggleable__content\"><pre>LinearRegression()</pre></div></div></div></div></div>"
            ]
          },
          "metadata": {},
          "execution_count": 54
        }
      ]
    },
    {
      "cell_type": "code",
      "source": [
        "model.intercept_"
      ],
      "metadata": {
        "colab": {
          "base_uri": "https://localhost:8080/"
        },
        "id": "b5XJLuQ4RKYj",
        "outputId": "f0c813f9-73e1-4e88-a0ee-942e6292175c"
      },
      "execution_count": 55,
      "outputs": [
        {
          "output_type": "execute_result",
          "data": {
            "text/plain": [
              "15.17653558371876"
            ]
          },
          "metadata": {},
          "execution_count": 55
        }
      ]
    },
    {
      "cell_type": "code",
      "source": [
        "model.coef_"
      ],
      "metadata": {
        "colab": {
          "base_uri": "https://localhost:8080/"
        },
        "id": "FdgNOpTtRUvj",
        "outputId": "d3337bf8-f9e2-4ffc-cc02-71553ce0526c"
      },
      "execution_count": 56,
      "outputs": [
        {
          "output_type": "execute_result",
          "data": {
            "text/plain": [
              "array([1.00063791])"
            ]
          },
          "metadata": {},
          "execution_count": 56
        }
      ]
    },
    {
      "cell_type": "markdown",
      "source": [
        "Predecition "
      ],
      "metadata": {
        "id": "Dp2DR_BsRsFh"
      }
    },
    {
      "cell_type": "code",
      "source": [
        "y_pred = model.predict(X_test)"
      ],
      "metadata": {
        "id": "c6ryhGgeRwM7"
      },
      "execution_count": 63,
      "outputs": []
    },
    {
      "cell_type": "code",
      "source": [
        "X_test"
      ],
      "metadata": {
        "colab": {
          "base_uri": "https://localhost:8080/",
          "height": 423
        },
        "id": "l3ZFxPy9SH5I",
        "outputId": "f702fb30-ed0c-46dc-a114-d8d3f3c29b4d"
      },
      "execution_count": 59,
      "outputs": [
        {
          "output_type": "execute_result",
          "data": {
            "text/plain": [
              "      opening_price\n",
              "2613         8842.3\n",
              "2959        57330.3\n",
              "89             94.7\n",
              "2715        10092.2\n",
              "2454         7165.5\n",
              "...             ...\n",
              "25            141.7\n",
              "2827        26460.3\n",
              "771           241.8\n",
              "313           695.7\n",
              "2143         3631.8\n",
              "\n",
              "[774 rows x 1 columns]"
            ],
            "text/html": [
              "\n",
              "  <div id=\"df-9400270a-1bd3-4ed2-aed3-5400123d8268\">\n",
              "    <div class=\"colab-df-container\">\n",
              "      <div>\n",
              "<style scoped>\n",
              "    .dataframe tbody tr th:only-of-type {\n",
              "        vertical-align: middle;\n",
              "    }\n",
              "\n",
              "    .dataframe tbody tr th {\n",
              "        vertical-align: top;\n",
              "    }\n",
              "\n",
              "    .dataframe thead th {\n",
              "        text-align: right;\n",
              "    }\n",
              "</style>\n",
              "<table border=\"1\" class=\"dataframe\">\n",
              "  <thead>\n",
              "    <tr style=\"text-align: right;\">\n",
              "      <th></th>\n",
              "      <th>opening_price</th>\n",
              "    </tr>\n",
              "  </thead>\n",
              "  <tbody>\n",
              "    <tr>\n",
              "      <th>2613</th>\n",
              "      <td>8842.3</td>\n",
              "    </tr>\n",
              "    <tr>\n",
              "      <th>2959</th>\n",
              "      <td>57330.3</td>\n",
              "    </tr>\n",
              "    <tr>\n",
              "      <th>89</th>\n",
              "      <td>94.7</td>\n",
              "    </tr>\n",
              "    <tr>\n",
              "      <th>2715</th>\n",
              "      <td>10092.2</td>\n",
              "    </tr>\n",
              "    <tr>\n",
              "      <th>2454</th>\n",
              "      <td>7165.5</td>\n",
              "    </tr>\n",
              "    <tr>\n",
              "      <th>...</th>\n",
              "      <td>...</td>\n",
              "    </tr>\n",
              "    <tr>\n",
              "      <th>25</th>\n",
              "      <td>141.7</td>\n",
              "    </tr>\n",
              "    <tr>\n",
              "      <th>2827</th>\n",
              "      <td>26460.3</td>\n",
              "    </tr>\n",
              "    <tr>\n",
              "      <th>771</th>\n",
              "      <td>241.8</td>\n",
              "    </tr>\n",
              "    <tr>\n",
              "      <th>313</th>\n",
              "      <td>695.7</td>\n",
              "    </tr>\n",
              "    <tr>\n",
              "      <th>2143</th>\n",
              "      <td>3631.8</td>\n",
              "    </tr>\n",
              "  </tbody>\n",
              "</table>\n",
              "<p>774 rows × 1 columns</p>\n",
              "</div>\n",
              "      <button class=\"colab-df-convert\" onclick=\"convertToInteractive('df-9400270a-1bd3-4ed2-aed3-5400123d8268')\"\n",
              "              title=\"Convert this dataframe to an interactive table.\"\n",
              "              style=\"display:none;\">\n",
              "        \n",
              "  <svg xmlns=\"http://www.w3.org/2000/svg\" height=\"24px\"viewBox=\"0 0 24 24\"\n",
              "       width=\"24px\">\n",
              "    <path d=\"M0 0h24v24H0V0z\" fill=\"none\"/>\n",
              "    <path d=\"M18.56 5.44l.94 2.06.94-2.06 2.06-.94-2.06-.94-.94-2.06-.94 2.06-2.06.94zm-11 1L8.5 8.5l.94-2.06 2.06-.94-2.06-.94L8.5 2.5l-.94 2.06-2.06.94zm10 10l.94 2.06.94-2.06 2.06-.94-2.06-.94-.94-2.06-.94 2.06-2.06.94z\"/><path d=\"M17.41 7.96l-1.37-1.37c-.4-.4-.92-.59-1.43-.59-.52 0-1.04.2-1.43.59L10.3 9.45l-7.72 7.72c-.78.78-.78 2.05 0 2.83L4 21.41c.39.39.9.59 1.41.59.51 0 1.02-.2 1.41-.59l7.78-7.78 2.81-2.81c.8-.78.8-2.07 0-2.86zM5.41 20L4 18.59l7.72-7.72 1.47 1.35L5.41 20z\"/>\n",
              "  </svg>\n",
              "      </button>\n",
              "      \n",
              "  <style>\n",
              "    .colab-df-container {\n",
              "      display:flex;\n",
              "      flex-wrap:wrap;\n",
              "      gap: 12px;\n",
              "    }\n",
              "\n",
              "    .colab-df-convert {\n",
              "      background-color: #E8F0FE;\n",
              "      border: none;\n",
              "      border-radius: 50%;\n",
              "      cursor: pointer;\n",
              "      display: none;\n",
              "      fill: #1967D2;\n",
              "      height: 32px;\n",
              "      padding: 0 0 0 0;\n",
              "      width: 32px;\n",
              "    }\n",
              "\n",
              "    .colab-df-convert:hover {\n",
              "      background-color: #E2EBFA;\n",
              "      box-shadow: 0px 1px 2px rgba(60, 64, 67, 0.3), 0px 1px 3px 1px rgba(60, 64, 67, 0.15);\n",
              "      fill: #174EA6;\n",
              "    }\n",
              "\n",
              "    [theme=dark] .colab-df-convert {\n",
              "      background-color: #3B4455;\n",
              "      fill: #D2E3FC;\n",
              "    }\n",
              "\n",
              "    [theme=dark] .colab-df-convert:hover {\n",
              "      background-color: #434B5C;\n",
              "      box-shadow: 0px 1px 3px 1px rgba(0, 0, 0, 0.15);\n",
              "      filter: drop-shadow(0px 1px 2px rgba(0, 0, 0, 0.3));\n",
              "      fill: #FFFFFF;\n",
              "    }\n",
              "  </style>\n",
              "\n",
              "      <script>\n",
              "        const buttonEl =\n",
              "          document.querySelector('#df-9400270a-1bd3-4ed2-aed3-5400123d8268 button.colab-df-convert');\n",
              "        buttonEl.style.display =\n",
              "          google.colab.kernel.accessAllowed ? 'block' : 'none';\n",
              "\n",
              "        async function convertToInteractive(key) {\n",
              "          const element = document.querySelector('#df-9400270a-1bd3-4ed2-aed3-5400123d8268');\n",
              "          const dataTable =\n",
              "            await google.colab.kernel.invokeFunction('convertToInteractive',\n",
              "                                                     [key], {});\n",
              "          if (!dataTable) return;\n",
              "\n",
              "          const docLinkHtml = 'Like what you see? Visit the ' +\n",
              "            '<a target=\"_blank\" href=https://colab.research.google.com/notebooks/data_table.ipynb>data table notebook</a>'\n",
              "            + ' to learn more about interactive tables.';\n",
              "          element.innerHTML = '';\n",
              "          dataTable['output_type'] = 'display_data';\n",
              "          await google.colab.output.renderOutput(dataTable, element);\n",
              "          const docLink = document.createElement('div');\n",
              "          docLink.innerHTML = docLinkHtml;\n",
              "          element.appendChild(docLink);\n",
              "        }\n",
              "      </script>\n",
              "    </div>\n",
              "  </div>\n",
              "  "
            ]
          },
          "metadata": {},
          "execution_count": 59
        }
      ]
    },
    {
      "cell_type": "markdown",
      "source": [
        "Accucray"
      ],
      "metadata": {
        "id": "SSmKjp8nSXSO"
      }
    },
    {
      "cell_type": "code",
      "source": [
        "from sklearn.metrics import mean_absolute_error, mean_absolute_percentage_error, mean_squared_error"
      ],
      "metadata": {
        "id": "dbuIaQ6dTHHr"
      },
      "execution_count": 60,
      "outputs": []
    },
    {
      "cell_type": "code",
      "source": [
        "mean_absolute_error(Y_test,y_pred)"
      ],
      "metadata": {
        "colab": {
          "base_uri": "https://localhost:8080/"
        },
        "id": "r7uAHdX3THKj",
        "outputId": "04aefc5f-ad8e-43c1-8e6f-b74ca500e600"
      },
      "execution_count": 64,
      "outputs": [
        {
          "output_type": "execute_result",
          "data": {
            "text/plain": [
              "222.60169347686335"
            ]
          },
          "metadata": {},
          "execution_count": 64
        }
      ]
    },
    {
      "cell_type": "code",
      "source": [
        "mean_absolute_percentage_error(Y_test,y_pred)"
      ],
      "metadata": {
        "colab": {
          "base_uri": "https://localhost:8080/"
        },
        "id": "PwjLFjc5Txck",
        "outputId": "2638e7b6-a846-41b3-f3c3-5a6189fd31d5"
      },
      "execution_count": 65,
      "outputs": [
        {
          "output_type": "execute_result",
          "data": {
            "text/plain": [
              "0.04321759093629146"
            ]
          },
          "metadata": {},
          "execution_count": 65
        }
      ]
    },
    {
      "cell_type": "code",
      "source": [
        "mean_squared_error(Y_test,y_pred)"
      ],
      "metadata": {
        "colab": {
          "base_uri": "https://localhost:8080/"
        },
        "id": "yV_uKLZPT2aN",
        "outputId": "62ebde57-cc54-422c-e4fd-87742da4eb63"
      },
      "execution_count": 66,
      "outputs": [
        {
          "output_type": "execute_result",
          "data": {
            "text/plain": [
              "288120.12935540604"
            ]
          },
          "metadata": {},
          "execution_count": 66
        }
      ]
    }
  ]
}